{
 "cells": [
  {
   "cell_type": "markdown",
   "metadata": {},
   "source": [
    "<center>\n",
    "<h2>Texmining 2021</h2>\n",
    "<h3>Práctico: Clustering de palabras</h3>\n",
    "</center>\n",
    "</left>\n",
    "<h3>Alumno: Martín Hunziker</h3>\n"
   ]
  },
  {
   "cell_type": "code",
   "execution_count": 49,
   "metadata": {},
   "outputs": [],
   "source": [
    "%matplotlib inline\n",
    "import matplotlib.pyplot as plt\n",
    "import pandas as pd\n",
    "import numpy as np\n",
    "import spacy\n",
    "import pickle\n",
    "import nltk\n",
    "import os\n",
    "import sklearn.manifold\n",
    "from collections import Counter\n",
    "from nltk.cluster import kmeans, cosine_distance\n",
    "from sklearn.feature_extraction import DictVectorizer\n",
    "\n",
    "from time import time \n",
    "from gensim.models.phrases import Phrases, Phraser\n",
    "import re "
   ]
  },
  {
   "cell_type": "code",
   "execution_count": 50,
   "metadata": {},
   "outputs": [
    {
     "name": "stdout",
     "output_type": "stream",
     "text": [
      "C:\\Users\\mhunz\\.conda\\envs\\NLP\\python.exe\n"
     ]
    }
   ],
   "source": [
    "import sys\n",
    "print(sys.executable)"
   ]
  },
  {
   "cell_type": "markdown",
   "metadata": {},
   "source": [
    "### Lectura de datos y pipeline de spacy"
   ]
  },
  {
   "cell_type": "code",
   "execution_count": 51,
   "metadata": {},
   "outputs": [
    {
     "name": "stdout",
     "output_type": "stream",
     "text": [
      "rule\n"
     ]
    }
   ],
   "source": [
    "#Cargamos el large language model de spacy para disponer de la vectorizacion de las palabras\n",
    "nlp = spacy.load(\"es_core_news_sm\", disable=['ner']) # # modelo chico = \"es_core_news_sm\" \n",
    "lemmatizer = nlp.get_pipe(\"lemmatizer\")\n",
    "print(lemmatizer.mode)  # 'rule'"
   ]
  },
  {
   "cell_type": "code",
   "execution_count": 52,
   "metadata": {
    "scrolled": true,
    "tags": []
   },
   "outputs": [],
   "source": [
    "filename = \"lavoztextodump.txt\"\n",
    "text_file = open(filename, \"r\", encoding = 'utf-8-sig')\n",
    "dataset = text_file.read()\n",
    "text_file.close()"
   ]
  },
  {
   "cell_type": "markdown",
   "metadata": {},
   "source": [
    "Para perfeccionar la lematización del spacy si trabajará con la lista de lematiazion del site:\n",
    "https://github.com/michmech/lemmatization-lists\n"
   ]
  },
  {
   "cell_type": "code",
   "execution_count": 53,
   "metadata": {},
   "outputs": [],
   "source": [
    "   \n",
    "lemma_file = open(\"lemmatization-es.txt\", \"r\",encoding = 'utf-8-sig')\n",
    "lemma_raw = lemma_file.read()\n",
    "lemma = lemma_raw.split(\"\\n\")\n",
    "\n",
    "lemma_dict = {}\n",
    "for pair in lemma:\n",
    "    w = pair.split(\"\\t\")\n",
    "    if len(w) == 2:\n",
    "        lemma_dict[w[1]] = w[0]\n",
    "        \n",
    "def lemmatize(word):\n",
    "    if word in lemma_dict:\n",
    "        word = lemma_dict[word]\n",
    "    return word\n"
   ]
  },
  {
   "cell_type": "code",
   "execution_count": 54,
   "metadata": {},
   "outputs": [
    {
     "data": {
      "text/plain": [
       "34140489"
      ]
     },
     "execution_count": 54,
     "metadata": {},
     "output_type": "execute_result"
    }
   ],
   "source": [
    "len(dataset)"
   ]
  },
  {
   "cell_type": "markdown",
   "metadata": {},
   "source": [
    "### Leemos parcialmente el corpus por limitación de memoria"
   ]
  },
  {
   "cell_type": "code",
   "execution_count": 55,
   "metadata": {
    "tags": []
   },
   "outputs": [],
   "source": [
    "nlp.max_length = 10000010\n",
    "data =dataset[0:10000000]\n"
   ]
  },
  {
   "cell_type": "markdown",
   "metadata": {},
   "source": [
    "### Criterios de selección de palabras del corpus\n",
    "\n",
    "1. Solamente consideraremos las oraciones de largo mayor a 10\n",
    "2. Consideremos las palabras alfabéticas\n",
    "3. Eliminamos las palabras que sean números\n",
    "4. Definimos Límites de cantidad máxima de palabras con la variables qPalabraMax\n",
    " "
   ]
  },
  {
   "cell_type": "code",
   "execution_count": 56,
   "metadata": {},
   "outputs": [],
   "source": [
    "### Process data\n",
    "doc = nlp(data) #34.140.489"
   ]
  },
  {
   "cell_type": "code",
   "execution_count": 57,
   "metadata": {},
   "outputs": [],
   "source": [
    "## Saving DOC\n",
    "doc.to_disk(\"./trained/doc\")\n",
    "doc1=doc"
   ]
  },
  {
   "cell_type": "code",
   "execution_count": 58,
   "metadata": {},
   "outputs": [],
   "source": [
    "## Reading previus DOC \n",
    "\n",
    "#from spacy.tokens import Doc\n",
    "#from spacy.vocab import Vocab\n",
    "#doc = Doc(Vocab()).from_disk(\"./trained/doc\")"
   ]
  },
  {
   "cell_type": "code",
   "execution_count": 59,
   "metadata": {},
   "outputs": [],
   "source": [
    "sentences =[]\n",
    "for sent in doc.sents:\n",
    "    if len(sent) > 10:\n",
    "        sentences.append([token.text for token in sent]) "
   ]
  },
  {
   "cell_type": "code",
   "execution_count": 60,
   "metadata": {
    "scrolled": true
   },
   "outputs": [],
   "source": [
    "sents = [sent for sent in doc.sents if len(sent) > 10]\n",
    "\n",
    "words = []\n",
    "words_lemma = []\n",
    "lstsents_lemma = []\n",
    "lstsents = []\n",
    "for sent in sents:\n",
    "    lstsent_lemma = []\n",
    "    lstsent = []\n",
    "    for word in sent:\n",
    "        if word.is_alpha:\n",
    "            words.append(word)\n",
    "            words_lemma.append(lemmatize(word.lemma_))\n",
    "            lstsent.append(word.text)\n",
    "            lstsent_lemma.append(lemmatize(word.lemma_))\n",
    "    lstsents_lemma.append(lstsent_lemma)\n",
    "    lstsents .append(lstsent)   \n",
    "counts = Counter(words_lemma)"
   ]
  },
  {
   "cell_type": "markdown",
   "metadata": {},
   "source": [
    "Hacemos el histograma de las 50 lemmas más coumnes para observar la distribución"
   ]
  },
  {
   "cell_type": "code",
   "execution_count": 61,
   "metadata": {},
   "outputs": [
    {
     "data": {
      "image/png": "[encoded data removed]",
      "text/plain": [
       "<Figure size 1008x504 with 1 Axes>"
      ]
     },
     "metadata": {
      "needs_background": "light"
     },
     "output_type": "display_data"
    }
   ],
   "source": [
    "word_comm=pd.DataFrame(counts.most_common(10000))\n",
    "\n",
    "plt.figure(figsize=(14, 7))\n",
    "\n",
    "plt.bar(word_comm[0][0:50], word_comm[1][0:50],color='#607c8e',)\n",
    "\n",
    "plt.title('Cantidad de Lemas en el corpus')\n",
    "plt.xlabel('Lemas')\n",
    "plt.ylabel('Cantidad')\n",
    "plt.grid(axis='y', alpha=0.75)\n",
    "plt.xticks(rotation=90)\n",
    "\n",
    "plt.show()"
   ]
  },
  {
   "cell_type": "markdown",
   "metadata": {},
   "source": [
    "Creamos un diccionario de palabras considerando las que ocurren mas veces:\n",
    "   1. ocurren pocas veces (ranking 500)\n",
    "   2. son numeros\n",
    "   \n",
    "y le adicionamos los features de cada vez que aparece.\n",
    "\n",
    "Los features considerados son:\n",
    "\n",
    " * Part-Of-Speech POS word.pos_ (ADJ: adjective, ADP: adposition, ADV: adverb, AUX: auxiliary verb, CONJ: coordinating conjunction, DET: determiner, INTJ: interjection, NOUN: noun, NUM: numeral, PART: particle, PRON: pronoun,PROPN: proper noun,PUNCT: punctuation, SCONJ: subordinating conjunction, SYM: symbol, VERB: verb, X: other)\n",
    " * Dependencia semántica entre las palabras (word.dep_)\n",
    " * Morfología de la palabra\n",
    " * Agregamos los contextos, sin orden (ventana de 1 palabra).\n",
    " * Cargamos como atributo el vector de sapcy para cada palabra\n"
   ]
  },
  {
   "cell_type": "code",
   "execution_count": 62,
   "metadata": {},
   "outputs": [
    {
     "data": {
      "text/plain": [
       "175"
      ]
     },
     "execution_count": 62,
     "metadata": {},
     "output_type": "execute_result"
    }
   ],
   "source": [
    "limiteW=word_comm[1][1000] \n",
    "limiteW"
   ]
  },
  {
   "cell_type": "code",
   "execution_count": 63,
   "metadata": {},
   "outputs": [],
   "source": [
    "dicc = {}\n",
    "list_dicc = {}\n",
    "word_id = 0\n",
    "qPalabraMax = limiteW  \n",
    "qPalabraConjMax = limiteW /4\n",
    "\n",
    "for word in words:\n",
    "    #print(word)\n",
    "    w = lemmatize(word.lemma_)\n",
    "    #print(word,word.is_alpha, not(str.isdigit(w)) , counts[w],counts[w] < qPalabraMax)\n",
    "    if (word.is_alpha and counts[w] > qPalabraMax):\n",
    "        if not w in dicc:\n",
    "            features = {}\n",
    "        else:\n",
    "            features = dicc[w]\n",
    "            \n",
    "            \n",
    "        pos = \"POS__\" + word.pos_\n",
    "        if not pos in features:\n",
    "            features[pos] = 0\n",
    "        features[pos] += 1\n",
    "\n",
    "        dep = \"DEP__\" + word.dep_\n",
    "        if not dep in features:\n",
    "            features[dep] = 0\n",
    "        features[dep] += 1\n",
    "\n",
    "        morf = \"MRF__\" + str(word.morph)\n",
    "        if not morf in features:\n",
    "            features[morf] = 0\n",
    "        features[morf] += 1\n",
    "        \n",
    "        \n",
    "        \n",
    "        # Contexto\n",
    "        if not word.i == 0:\n",
    "            context_izq = doc[word.i - 1]\n",
    "            c_izq = lemmatize(context_izq.lemma_)\n",
    "            if context_izq.is_alpha and counts[c_izq] > qPalabraConjMax:\n",
    "                if str.isdigit(c_izq):\n",
    "                    c_izq = \"NUM__\"\n",
    "                if not c_izq in features:\n",
    "                    features[c_izq] = 0\n",
    "                features[c_izq] += 1\n",
    "\n",
    "        if not word.i < len(doc):\n",
    "            context_der = doc[word.i + 1]\n",
    "            c_der = lemmatize(context_der.lemma_)\n",
    "            if context_der.is_alpha and counts[c_der] > qPalabraConjMax:\n",
    "                if str.isdigit(c_der):\n",
    "                    c_der = \"NUM__\"\n",
    "                if not c_der in features:\n",
    "                    features[c_der] = 0\n",
    "                features[c_der] += 1\n",
    "\n",
    "        tripla = \"TRIPLA__\" + w + \"__\" + word.lemma_ + \"__\" + word.dep_ + \"__\" + lemmatize(word.head.lemma_)\n",
    "        if not tripla in features:\n",
    "            features[tripla] = 0\n",
    "        features[tripla] += 1\n",
    "\n",
    "        word_id += 1\n",
    "\n",
    "        dicc[w] = features\n"
   ]
  },
  {
   "cell_type": "markdown",
   "metadata": {},
   "source": [
    "Separamos las palabras y sus features"
   ]
  },
  {
   "cell_type": "code",
   "execution_count": 64,
   "metadata": {},
   "outputs": [],
   "source": [
    "features = []\n",
    "key_words = {}\n",
    "wid = 0\n",
    "for d in dicc:\n",
    "    if len(d) > 0:\n",
    "        key_words[d] = wid\n",
    "        wid += 1\n",
    "        features.append(dicc[d])"
   ]
  },
  {
   "cell_type": "code",
   "execution_count": 65,
   "metadata": {},
   "outputs": [],
   "source": [
    "## guardamos los archivos a pickle\n",
    "\n",
    "filename = \"trained/dicc.pickle\"\n",
    "fileObj = open(filename, 'wb')\n",
    "pickle.dump(dicc, fileObj)\n",
    "fileObj.close()\n",
    "\n",
    "filename = \"trained/features.pickle\"\n",
    "fileObj = open(filename, 'wb')\n",
    "pickle.dump(features, fileObj)\n",
    "fileObj.close()\n",
    "\n",
    "filename = \"trained/keys.pickle\"\n",
    "fileObj = open(filename, 'wb')\n",
    "pickle.dump(key_words, fileObj)\n",
    "fileObj.close()"
   ]
  },
  {
   "cell_type": "markdown",
   "metadata": {},
   "source": [
    "Vectorizamos y normalizamos la matriz por filas"
   ]
  },
  {
   "cell_type": "code",
   "execution_count": 66,
   "metadata": {},
   "outputs": [],
   "source": [
    "v = DictVectorizer(sparse=False)\n",
    "matrix = v.fit_transform(features)\n",
    "matrix_normed = matrix / matrix.max(axis=0)"
   ]
  },
  {
   "cell_type": "markdown",
   "metadata": {},
   "source": [
    "#### Reducimos la dimensionalidad quitando aquellas columnas que tengan poca varianza"
   ]
  },
  {
   "cell_type": "code",
   "execution_count": 67,
   "metadata": {},
   "outputs": [],
   "source": [
    "variances = np.square(matrix_normed).mean(axis=0) - np.square(matrix_normed.mean(axis=0))"
   ]
  },
  {
   "cell_type": "code",
   "execution_count": 68,
   "metadata": {},
   "outputs": [],
   "source": [
    "VarianzaMin = 0.001\n",
    "red_matrix = np.delete(matrix_normed, np.where(variances < VarianzaMin), axis=1)"
   ]
  },
  {
   "cell_type": "markdown",
   "metadata": {},
   "source": [
    "#### Reducimos la dimensionalidad aplicando el t-distributed Stochastic Neighbor Embedding."
   ]
  },
  {
   "cell_type": "code",
   "execution_count": 69,
   "metadata": {},
   "outputs": [
    {
     "name": "stderr",
     "output_type": "stream",
     "text": [
      "C:\\Users\\mhunz\\.conda\\envs\\NLP\\lib\\site-packages\\sklearn\\manifold\\_t_sne.py:780: FutureWarning: The default initialization in TSNE will change from 'random' to 'pca' in 1.2.\n",
      "  warnings.warn(\n",
      "C:\\Users\\mhunz\\.conda\\envs\\NLP\\lib\\site-packages\\sklearn\\manifold\\_t_sne.py:790: FutureWarning: The default learning rate in TSNE will change from 200.0 to 'auto' in 1.2.\n",
      "  warnings.warn(\n"
     ]
    }
   ],
   "source": [
    "tsne = sklearn.manifold.TSNE(n_components=2, random_state=0)\n",
    "matrix_dicc2d = tsne.fit_transform(red_matrix)"
   ]
  },
  {
   "cell_type": "code",
   "execution_count": 70,
   "metadata": {},
   "outputs": [],
   "source": [
    "DF_matrix_dicc2d = pd.DataFrame(matrix_dicc2d, columns=[\"x\", \"y\"])\n",
    "DF_matrix_dicc2d['word'] = pd.DataFrame.from_dict(key_words,orient='index').reset_index()['index']\n"
   ]
  },
  {
   "cell_type": "code",
   "execution_count": 71,
   "metadata": {},
   "outputs": [
    {
     "data": {
      "image/png": "[encoded data removed]",
      "text/plain": [
       "<Figure size 720x432 with 1 Axes>"
      ]
     },
     "metadata": {
      "needs_background": "light"
     },
     "output_type": "display_data"
    }
   ],
   "source": [
    "fig, ax = plt.subplots(figsize=(12, 8))\n",
    "DF_matrix_dicc2d.plot.scatter(ax=ax,x='x',y='y', c='DarkBlue',figsize=(10, 6))\n",
    "\n",
    "plt.title('Representación Palabras tNSE')\n",
    "plt.xlabel('X1')\n",
    "plt.ylabel('X2')\n",
    "plt.grid(axis='y', alpha=0.75)\n",
    "plt.xticks(rotation=90)\n",
    "plt.show()"
   ]
  },
  {
   "cell_type": "code",
   "execution_count": 72,
   "metadata": {},
   "outputs": [],
   "source": [
    "def PlotWordRadius(Sword, radio,DS):\n",
    "    if 'Cluster' not in DS:\n",
    "        DS['Cluster'] = 0\n",
    "        \n",
    "    dword=DS[DS.word == Sword]\n",
    "    x = dword.x.values[0]\n",
    "    y = dword.y.values[0]\n",
    "\n",
    "    x_liminf = x-radio\n",
    "    x_limsup = x+radio\n",
    "    y_liminf = y-radio\n",
    "    y_limsup = y+radio\n",
    "\n",
    "    df_plot = DS[(x_liminf <= DS['x']) & (DS['x']<= x_limsup)&\\\n",
    "                               (y_liminf <= DS['y']) & (DS['y']<= y_limsup)]\n",
    "\n",
    "    fig, ax = plt.subplots(figsize=(12, 8))\n",
    "   \n",
    "    scatter = ax.scatter(df_plot.x, df_plot.y, c=df_plot.Cluster)\n",
    "    \n",
    "    legend1 = ax.legend(*scatter.legend_elements(),\n",
    "                        loc=\"upper right\", title=\"Cluster\")\n",
    "    ax.add_artist(legend1)\n",
    "\n",
    "    \n",
    "    plt.title('Representación Palabras tNSE' + ' palabra= ' + Sword + ' Radio= ' + str(radio) )\n",
    "    plt.xlabel('X1')\n",
    "    plt.ylabel('X2')\n",
    "    plt.xlim(x_liminf, x_limsup)\n",
    "    plt.ylim(y_liminf, y_limsup)\n",
    "\n",
    "    for id, vector in df_plot.iterrows():\n",
    "           ax.annotate(vector['word'],vector[['x', 'y']],textcoords=\"offset points\",xytext=(0,5),ha='center')\n",
    "\n",
    "\n",
    "    plt.grid(axis='y', alpha=0.75)\n",
    "    plt.xticks(rotation=90)\n",
    "    plt.show()"
   ]
  },
  {
   "cell_type": "code",
   "execution_count": 113,
   "metadata": {},
   "outputs": [
    {
     "data": {
      "image/png": "[encoded data removed]",
      "text/plain": [
       "<Figure size 864x576 with 1 Axes>"
      ]
     },
     "metadata": {
      "needs_background": "light"
     },
     "output_type": "display_data"
    }
   ],
   "source": [
    "Sword = 'lunes'\n",
    "\n",
    "PlotWordRadius(Sword, 5, DF_matrix_dicc2d)"
   ]
  },
  {
   "cell_type": "markdown",
   "metadata": {},
   "source": [
    "### Clustering"
   ]
  },
  {
   "cell_type": "code",
   "execution_count": 74,
   "metadata": {
    "scrolled": true
   },
   "outputs": [],
   "source": [
    "def clustering(k, DS_Cluster):\n",
    "    clusterer = kmeans.KMeansClusterer(k, cosine_distance, avoid_empty_clusters=True)\n",
    "    clusters = clusterer.cluster(DS_Cluster, True)\n",
    "    return clusters"
   ]
  },
  {
   "cell_type": "code",
   "execution_count": 75,
   "metadata": {},
   "outputs": [],
   "source": [
    "nCluster = 100\n",
    "clt =  clustering(nCluster,red_matrix)\n"
   ]
  },
  {
   "cell_type": "code",
   "execution_count": 76,
   "metadata": {},
   "outputs": [],
   "source": [
    "# Exportando a pickle\n",
    "filename = \"trained/clt.pickle\"\n",
    "fileObj = open(filename, 'wb')\n",
    "pickle.dump(clt, fileObj)\n",
    "fileObj.close()\n"
   ]
  },
  {
   "cell_type": "code",
   "execution_count": 77,
   "metadata": {},
   "outputs": [],
   "source": [
    "DF_matrix_dicc2d['Cluster']=clt"
   ]
  },
  {
   "cell_type": "code",
   "execution_count": 114,
   "metadata": {},
   "outputs": [
    {
     "data": {
      "image/png": "[encoded data removed]",
      "text/plain": [
       "<Figure size 864x576 with 1 Axes>"
      ]
     },
     "metadata": {
      "needs_background": "light"
     },
     "output_type": "display_data"
    }
   ],
   "source": [
    "PlotWordRadius(Sword, 3, DF_matrix_dicc2d)"
   ]
  },
  {
   "cell_type": "code",
   "execution_count": 79,
   "metadata": {},
   "outputs": [],
   "source": [
    "def ClusterValues( Sword,DS):\n",
    "    cluster = DS[DS.word == Sword].Cluster.values[0]\n",
    "    print(DS[DS.Cluster==cluster].word.to_numpy())\n"
   ]
  },
  {
   "cell_type": "code",
   "execution_count": 80,
   "metadata": {},
   "outputs": [
    {
     "name": "stdout",
     "output_type": "stream",
     "text": [
      "['él' 'que' 'sostener' 'a' 'ser' 'y' 'no' 'sin' 'hacer' 'estar' 'tener'\n",
      " 'en' 'de' 'asegurar' 'del' 'llevar' 'juntar' 'sino' 'tanto' 'yo'\n",
      " 'siempre' 'cuando' 'ya' 'más' 'parir' 'cambiar' 'con' 'acordar' 'seguir'\n",
      " 'al' 'después' 'tú' 'ayudar' 'sólo' 'por' 'trabajar' 'si' 'crecer'\n",
      " 'poder' 'o' 'manejar' 'mantener' 'tomar' 'sumar' 'reclamar' 'mejorar'\n",
      " 'pedir' 'advertir' 'comer' 'llegar' 'porque' 'empezar' 'continuar' 'dar'\n",
      " 'morir' 'anticipar' 'contar' 'recién' 'pasar' 'salir' 'quedar' 'deber'\n",
      " 'esperar' 'admitir' 'mucho' 'evitar' 'brindar' 'proponer' 'participar'\n",
      " 'generar' 'ni' 'donde' 'manifestar' 'argumentar' 'durante' 'hasta'\n",
      " 'aceptar' 'comenzar' 'aparecer' 'relatar' 'depender' 'ocurrir' 'subir'\n",
      " 'afirmar' 'tal' 'e' 'aumentar' 'recibir' 'funcionar' 'apuntar' 'todavía'\n",
      " 'tras' 'recuperar' 'cerrar' 'cercar' 'indicar' 'perder' 'aplicar'\n",
      " 'Francisco' 'permitir' 'cualquiera' 'buscar' 'surgir' 'informar'\n",
      " 'concluir' 'mientras' 'entonces' 'denunciar' 'intentar' 'crisis'\n",
      " 'estrategia' 'conformar' 'pagar' 'demostrar' 'avanzar' 'provocar'\n",
      " 'plantear' 'ante' 'obtener' 'aun' 'viajar' 'caer' 'alcanzar'\n",
      " 'representar' 'convertir' 'decretar' 'sí' 'exigir' 'servir' 'señalar'\n",
      " 'opinar' 'marcar' 'impactar' 'significar' 'ofrecer' 'votar' 'finalmente'\n",
      " 'solicitar' 'acusar' 'condición' 'defender' 'reconocer' 'lanzar' 'reunir'\n",
      " 'confirmar' 'producir' 'cuyo' 'recordar' 'minero' 'herir' 'materia'\n",
      " 'práctico' 'contratar' 'coincidir' 'remarcar' 'asumir' 'ocupar'\n",
      " 'sospechar' 'cobrar' 'preso']\n"
     ]
    }
   ],
   "source": [
    "# Stopwords\n",
    "Sword = 'de'\n",
    "ClusterValues(Sword,DF_matrix_dicc2d )"
   ]
  },
  {
   "cell_type": "code",
   "execution_count": 81,
   "metadata": {},
   "outputs": [
    {
     "name": "stdout",
     "output_type": "stream",
     "text": [
      "['él' 'que' 'sostener' 'a' 'ser' 'y' 'no' 'sin' 'hacer' 'estar' 'tener'\n",
      " 'en' 'de' 'asegurar' 'del' 'llevar' 'juntar' 'sino' 'tanto' 'yo'\n",
      " 'siempre' 'cuando' 'ya' 'más' 'parir' 'cambiar' 'con' 'acordar' 'seguir'\n",
      " 'al' 'después' 'tú' 'ayudar' 'sólo' 'por' 'trabajar' 'si' 'crecer'\n",
      " 'poder' 'o' 'manejar' 'mantener' 'tomar' 'sumar' 'reclamar' 'mejorar'\n",
      " 'pedir' 'advertir' 'comer' 'llegar' 'porque' 'empezar' 'continuar' 'dar'\n",
      " 'morir' 'anticipar' 'contar' 'recién' 'pasar' 'salir' 'quedar' 'deber'\n",
      " 'esperar' 'admitir' 'mucho' 'evitar' 'brindar' 'proponer' 'participar'\n",
      " 'generar' 'ni' 'donde' 'manifestar' 'argumentar' 'durante' 'hasta'\n",
      " 'aceptar' 'comenzar' 'aparecer' 'relatar' 'depender' 'ocurrir' 'subir'\n",
      " 'afirmar' 'tal' 'e' 'aumentar' 'recibir' 'funcionar' 'apuntar' 'todavía'\n",
      " 'tras' 'recuperar' 'cerrar' 'cercar' 'indicar' 'perder' 'aplicar'\n",
      " 'Francisco' 'permitir' 'cualquiera' 'buscar' 'surgir' 'informar'\n",
      " 'concluir' 'mientras' 'entonces' 'denunciar' 'intentar' 'crisis'\n",
      " 'estrategia' 'conformar' 'pagar' 'demostrar' 'avanzar' 'provocar'\n",
      " 'plantear' 'ante' 'obtener' 'aun' 'viajar' 'caer' 'alcanzar'\n",
      " 'representar' 'convertir' 'decretar' 'sí' 'exigir' 'servir' 'señalar'\n",
      " 'opinar' 'marcar' 'impactar' 'significar' 'ofrecer' 'votar' 'finalmente'\n",
      " 'solicitar' 'acusar' 'condición' 'defender' 'reconocer' 'lanzar' 'reunir'\n",
      " 'confirmar' 'producir' 'cuyo' 'recordar' 'minero' 'herir' 'materia'\n",
      " 'práctico' 'contratar' 'coincidir' 'remarcar' 'asumir' 'ocupar'\n",
      " 'sospechar' 'cobrar' 'preso']\n"
     ]
    }
   ],
   "source": [
    "# Verbos\n",
    "Sword = 'ayudar'\n",
    "ClusterValues(Sword,DF_matrix_dicc2d )"
   ]
  },
  {
   "cell_type": "code",
   "execution_count": 82,
   "metadata": {},
   "outputs": [
    {
     "name": "stdout",
     "output_type": "stream",
     "text": [
      "['Educación' 'Unidos' 'Provincia' 'Nación' 'Justicia' 'Secretaría'\n",
      " 'Legislatura' 'UNC' 'Casa' 'Unión' 'Comercio' 'Voz' 'Aires' 'Central'\n",
      " 'Sota' 'Schiaretti' 'Mestre' 'UCR' 'Municipalidad' 'Giacomino' 'Iglesia'\n",
      " 'Policía' 'Diputados' 'Presidenta' 'Salud']\n"
     ]
    }
   ],
   "source": [
    "# Politica\n",
    "Sword =\"Giacomino\"\n",
    "ClusterValues(Sword,DF_matrix_dicc2d )"
   ]
  },
  {
   "cell_type": "code",
   "execution_count": 83,
   "metadata": {},
   "outputs": [
    {
     "name": "stdout",
     "output_type": "stream",
     "text": [
      "['miércoles' 'septiembre' 'martes' 'diciembre' 'viernes' 'octubre' 'lunes'\n",
      " 'abril' 'agostar' 'jueves' 'marzo' 'enero' 'junio' 'julio' 'domingo'\n",
      " 'mayar']\n"
     ]
    }
   ],
   "source": [
    "# Fechas\n",
    "Sword =\"lunes\"\n",
    "ClusterValues(Sword,DF_matrix_dicc2d )"
   ]
  },
  {
   "cell_type": "markdown",
   "metadata": {},
   "source": [
    "### Embeddings: Word2Vec\n",
    "\n"
   ]
  },
  {
   "cell_type": "markdown",
   "metadata": {},
   "source": [
    "### Training the model¶\n"
   ]
  },
  {
   "cell_type": "code",
   "execution_count": 84,
   "metadata": {},
   "outputs": [],
   "source": [
    "import multiprocessing\n",
    "\n",
    "from gensim.models import Word2Vec"
   ]
  },
  {
   "cell_type": "code",
   "execution_count": 115,
   "metadata": {},
   "outputs": [
    {
     "data": {
      "text/plain": [
       "12"
      ]
     },
     "execution_count": 115,
     "metadata": {},
     "output_type": "execute_result"
    }
   ],
   "source": [
    "cores = multiprocessing.cpu_count() # Count the number of cores in a computer\n",
    "cores"
   ]
  },
  {
   "cell_type": "code",
   "execution_count": 116,
   "metadata": {},
   "outputs": [
    {
     "data": {
      "text/plain": [
       "59231"
      ]
     },
     "execution_count": 116,
     "metadata": {},
     "output_type": "execute_result"
    }
   ],
   "source": [
    "len(lstsents)"
   ]
  },
  {
   "cell_type": "code",
   "execution_count": 117,
   "metadata": {},
   "outputs": [],
   "source": [
    "phrases = Phrases(lstsents_lemma, min_count=10, progress_per=1000)\n",
    "bigram = Phraser(phrases)\n",
    "sentences = bigram[lstsents]\n"
   ]
  },
  {
   "cell_type": "markdown",
   "metadata": {},
   "source": [
    "### The parameters:\n"
   ]
  },
  {
   "cell_type": "code",
   "execution_count": 118,
   "metadata": {},
   "outputs": [],
   "source": [
    "w2v_model = Word2Vec(min_count=10,\n",
    "                     window=2,\n",
    "                     sample=6e-5,\n",
    "                     vector_size = 300,\n",
    "                     alpha=0.03, \n",
    "                     min_alpha=0.0007, \n",
    "                     negative=20,\n",
    "                     workers=cores-1)"
   ]
  },
  {
   "cell_type": "markdown",
   "metadata": {},
   "source": [
    "### Building the Vocabulary Table:\n"
   ]
  },
  {
   "cell_type": "code",
   "execution_count": 119,
   "metadata": {},
   "outputs": [
    {
     "name": "stdout",
     "output_type": "stream",
     "text": [
      "Time to build vocab: 0.03 mins\n"
     ]
    }
   ],
   "source": [
    "# Sentence options: lstsents_lemma, lstsents\n",
    "\n",
    "t = time()\n",
    "\n",
    "w2v_model.build_vocab(sentences, progress_per=100000)\n",
    "\n",
    "print('Time to build vocab: {} mins'.format(round((time() - t) / 60, 2)))"
   ]
  },
  {
   "cell_type": "markdown",
   "metadata": {},
   "source": [
    "### Training of the model:\n"
   ]
  },
  {
   "cell_type": "code",
   "execution_count": 120,
   "metadata": {},
   "outputs": [
    {
     "name": "stdout",
     "output_type": "stream",
     "text": [
      "Time to train the model: 0.4 mins\n"
     ]
    }
   ],
   "source": [
    "t = time()\n",
    "\n",
    "w2v_model.train(lstsents, total_examples=w2v_model.corpus_count, epochs=30, report_delay=1)\n",
    "\n",
    "print('Time to train the model: {} mins'.format(round((time() - t) / 60, 2)))"
   ]
  },
  {
   "cell_type": "code",
   "execution_count": 121,
   "metadata": {},
   "outputs": [
    {
     "data": {
      "text/plain": [
       "[('la', 0.5020110011100769),\n",
       " ('del', 0.4423753321170807),\n",
       " ('y', 0.4240289628505707),\n",
       " ('en', 0.3828110992908478),\n",
       " ('Con', 0.306803435087204),\n",
       " ('En', 0.3015977442264557),\n",
       " ('obtiene', 0.2996242344379425),\n",
       " ('La', 0.2914838194847107),\n",
       " ('fronteriza', 0.2890869081020355),\n",
       " ('forman', 0.28783684968948364)]"
      ]
     },
     "execution_count": 121,
     "metadata": {},
     "output_type": "execute_result"
    }
   ],
   "source": [
    "w2v_model.wv.most_similar(positive=[\"de\"])"
   ]
  },
  {
   "cell_type": "code",
   "execution_count": 122,
   "metadata": {},
   "outputs": [
    {
     "data": {
      "text/plain": [
       "[('cuidar', 0.46967944502830505),\n",
       " ('contribuir', 0.4428647458553314),\n",
       " ('aprender', 0.44073158502578735),\n",
       " ('jugar', 0.4375334084033966),\n",
       " ('consolidar', 0.43039050698280334),\n",
       " ('acabar', 0.42593368887901306),\n",
       " ('usarlas', 0.4201512336730957),\n",
       " ('convivir', 0.41596564650535583),\n",
       " ('acostumbrarse', 0.4079764783382416),\n",
       " ('transformarse', 0.4037134647369385)]"
      ]
     },
     "execution_count": 122,
     "metadata": {},
     "output_type": "execute_result"
    }
   ],
   "source": [
    "w2v_model.wv.most_similar(positive=[\"ayudar\"])"
   ]
  },
  {
   "cell_type": "code",
   "execution_count": 123,
   "metadata": {},
   "outputs": [
    {
     "data": {
      "text/plain": [
       "[('intendente', 0.549666166305542),\n",
       " ('Scioli', 0.5352081656455994),\n",
       " ('Passerini', 0.5169236660003662),\n",
       " ('Filmus', 0.5130751729011536),\n",
       " ('Bonetto', 0.4622884690761566),\n",
       " ('flanqueado', 0.44844546914100647),\n",
       " ('viceintendente', 0.39029228687286377),\n",
       " ('postularse', 0.3720005750656128),\n",
       " ('suponía', 0.37070751190185547),\n",
       " ('asumido', 0.36225417256355286)]"
      ]
     },
     "execution_count": 123,
     "metadata": {},
     "output_type": "execute_result"
    }
   ],
   "source": [
    "w2v_model.wv.most_similar(positive=[\"Giacomino\"])"
   ]
  },
  {
   "cell_type": "code",
   "execution_count": 146,
   "metadata": {},
   "outputs": [
    {
     "data": {
      "text/plain": [
       "[('martes', 0.5946502089500427),\n",
       " ('sábado', 0.5402703285217285),\n",
       " ('miércoles', 0.5318350791931152),\n",
       " ('jueves', 0.5146793127059937),\n",
       " ('medianoche', 0.49314674735069275),\n",
       " ('domingo', 0.47923892736434937),\n",
       " ('viernes', 0.47197315096855164),\n",
       " ('mañana', 0.4599389433860779),\n",
       " ('octubre', 0.424324095249176),\n",
       " ('noviembre', 0.41011419892311096)]"
      ]
     },
     "execution_count": 146,
     "metadata": {},
     "output_type": "execute_result"
    }
   ],
   "source": [
    "w2v_model.wv.most_similar(positive=[\"lunes\"])"
   ]
  },
  {
   "cell_type": "code",
   "execution_count": 130,
   "metadata": {},
   "outputs": [],
   "source": [
    "### La performance del word2vec parece mucho mejor"
   ]
  },
  {
   "cell_type": "code",
   "execution_count": 159,
   "metadata": {},
   "outputs": [
    {
     "name": "stdout",
     "output_type": "stream",
     "text": [
      "martes\n"
     ]
    }
   ],
   "source": [
    "if word in w2v_model.wv.key_to_index:\n",
    "    word_Vector =  w2v_model.wv[str(word)]\n",
    "    word_word =  [str(word)]\n",
    "    print(word)"
   ]
  },
  {
   "cell_type": "code",
   "execution_count": 162,
   "metadata": {},
   "outputs": [
    {
     "data": {
      "text/plain": [
       "'martes'"
      ]
     },
     "execution_count": 162,
     "metadata": {},
     "output_type": "execute_result"
    }
   ],
   "source": [
    "str(word)"
   ]
  },
  {
   "cell_type": "code",
   "execution_count": 213,
   "metadata": {},
   "outputs": [],
   "source": [
    "# Lista de vectores \n",
    "word_Vector = []\n",
    "word_word= []\n",
    "word_noexiste= []\n",
    "\n",
    "for word in DF_matrix_dicc2d.word:\n",
    "    #print(word)\n",
    "    if str(word) in w2v_model.wv.key_to_index:\n",
    "        word_Vector.append(w2v_model.wv[str(word)])\n",
    "        word_word.append(str(word))\n",
    "    else:\n",
    "        word_noexiste.append(str(word))"
   ]
  },
  {
   "cell_type": "code",
   "execution_count": 219,
   "metadata": {},
   "outputs": [
    {
     "data": {
      "text/plain": [
       "['parejo',\n",
       " 'personar',\n",
       " 'parir',\n",
       " 'coser',\n",
       " 'tú',\n",
       " 'mediar',\n",
       " 'proyectar',\n",
       " 'objetivar',\n",
       " 'matrimoniar',\n",
       " 'largar']"
      ]
     },
     "execution_count": 219,
     "metadata": {},
     "output_type": "execute_result"
    }
   ],
   "source": [
    "word_noexiste[0:10]"
   ]
  },
  {
   "cell_type": "code",
   "execution_count": 215,
   "metadata": {},
   "outputs": [],
   "source": [
    "cltW2V =  clustering(nCluster,word_Vector)"
   ]
  },
  {
   "cell_type": "code",
   "execution_count": 216,
   "metadata": {},
   "outputs": [],
   "source": [
    "# Exportando a pickle\n",
    "filename = \"trained/cltW2V.pickle\"\n",
    "fileObj = open(filename, 'wb')\n",
    "pickle.dump(cltW2V, fileObj)\n",
    "fileObj.close()"
   ]
  },
  {
   "cell_type": "code",
   "execution_count": 221,
   "metadata": {},
   "outputs": [],
   "source": [
    "df_W2V = pd.DataFrame(list(zip(word_word, cltW2V)),\n",
    "               columns =['word', 'Cluster'])"
   ]
  },
  {
   "cell_type": "code",
   "execution_count": 222,
   "metadata": {},
   "outputs": [
    {
     "data": {
      "text/html": [
       "<div>\n",
       "<style scoped>\n",
       "    .dataframe tbody tr th:only-of-type {\n",
       "        vertical-align: middle;\n",
       "    }\n",
       "\n",
       "    .dataframe tbody tr th {\n",
       "        vertical-align: top;\n",
       "    }\n",
       "\n",
       "    .dataframe thead th {\n",
       "        text-align: right;\n",
       "    }\n",
       "</style>\n",
       "<table border=\"1\" class=\"dataframe\">\n",
       "  <thead>\n",
       "    <tr style=\"text-align: right;\">\n",
       "      <th></th>\n",
       "      <th>word</th>\n",
       "      <th>Cluster</th>\n",
       "    </tr>\n",
       "  </thead>\n",
       "  <tbody>\n",
       "    <tr>\n",
       "      <th>0</th>\n",
       "      <td>él</td>\n",
       "      <td>64</td>\n",
       "    </tr>\n",
       "    <tr>\n",
       "      <th>1</th>\n",
       "      <td>que</td>\n",
       "      <td>73</td>\n",
       "    </tr>\n",
       "    <tr>\n",
       "      <th>2</th>\n",
       "      <td>sostener</td>\n",
       "      <td>38</td>\n",
       "    </tr>\n",
       "    <tr>\n",
       "      <th>3</th>\n",
       "      <td>a</td>\n",
       "      <td>59</td>\n",
       "    </tr>\n",
       "    <tr>\n",
       "      <th>4</th>\n",
       "      <td>el</td>\n",
       "      <td>21</td>\n",
       "    </tr>\n",
       "    <tr>\n",
       "      <th>...</th>\n",
       "      <td>...</td>\n",
       "      <td>...</td>\n",
       "    </tr>\n",
       "    <tr>\n",
       "      <th>860</th>\n",
       "      <td>ordenanza</td>\n",
       "      <td>39</td>\n",
       "    </tr>\n",
       "    <tr>\n",
       "      <th>861</th>\n",
       "      <td>residuo</td>\n",
       "      <td>30</td>\n",
       "    </tr>\n",
       "    <tr>\n",
       "      <th>862</th>\n",
       "      <td>violación</td>\n",
       "      <td>72</td>\n",
       "    </tr>\n",
       "    <tr>\n",
       "      <th>863</th>\n",
       "      <td>Obama</td>\n",
       "      <td>2</td>\n",
       "    </tr>\n",
       "    <tr>\n",
       "      <th>864</th>\n",
       "      <td>Innviron</td>\n",
       "      <td>30</td>\n",
       "    </tr>\n",
       "  </tbody>\n",
       "</table>\n",
       "<p>865 rows × 2 columns</p>\n",
       "</div>"
      ],
      "text/plain": [
       "          word  Cluster\n",
       "0           él       64\n",
       "1          que       73\n",
       "2     sostener       38\n",
       "3            a       59\n",
       "4           el       21\n",
       "..         ...      ...\n",
       "860  ordenanza       39\n",
       "861    residuo       30\n",
       "862  violación       72\n",
       "863      Obama        2\n",
       "864   Innviron       30\n",
       "\n",
       "[865 rows x 2 columns]"
      ]
     },
     "execution_count": 222,
     "metadata": {},
     "output_type": "execute_result"
    }
   ],
   "source": [
    "df_W2V"
   ]
  },
  {
   "cell_type": "code",
   "execution_count": 224,
   "metadata": {},
   "outputs": [
    {
     "name": "stdout",
     "output_type": "stream",
     "text": [
      "['y' 'en' 'de' 'ya' 'por' 'desde' 'En']\n"
     ]
    }
   ],
   "source": [
    "# Stopwords\n",
    "Sword = 'de'\n",
    "ClusterValues(Sword,df_W2V )"
   ]
  },
  {
   "cell_type": "code",
   "execution_count": 225,
   "metadata": {},
   "outputs": [
    {
     "name": "stdout",
     "output_type": "stream",
     "text": [
      "['sin' 'vivir' 'ayudar' 'medir' 'morir' 'causar' 'generar' 'sufrir'\n",
      " 'aparecer' 'existir' 'afectar' 'surgir' 'provocar' 'viajar' 'reducir'\n",
      " 'procesar' 'enfermedad' 'contener' 'solución' 'atacar']\n"
     ]
    }
   ],
   "source": [
    "# Verbos\n",
    "Sword = 'ayudar'\n",
    "ClusterValues(Sword,df_W2V )"
   ]
  },
  {
   "cell_type": "code",
   "execution_count": 226,
   "metadata": {},
   "outputs": [
    {
     "name": "stdout",
     "output_type": "stream",
     "text": [
      "['él' 'manera' 'modo' 'De' 'estrategia' 'igual' 'candidato' 'gobernador'\n",
      " 'Aguad' 'Sota' 'Schiaretti' 'Mestre' 'intendente' 'UCR' 'Giacomino'\n",
      " 'administración' 'Julio']\n"
     ]
    }
   ],
   "source": [
    "# Politica\n",
    "Sword =\"Giacomino\"\n",
    "ClusterValues(Sword,df_W2V )"
   ]
  },
  {
   "cell_type": "code",
   "execution_count": 223,
   "metadata": {},
   "outputs": [
    {
     "name": "stdout",
     "output_type": "stream",
     "text": [
      "['miércoles' 'martes' 'mañana' 'momento' 'viernes' 'lunes' 'abril'\n",
      " 'jueves' 'domingo']\n"
     ]
    }
   ],
   "source": [
    "# Fechas\n",
    "Sword =\"lunes\"\n",
    "ClusterValues(Sword,df_W2V )"
   ]
  },
  {
   "cell_type": "code",
   "execution_count": 227,
   "metadata": {},
   "outputs": [
    {
     "data": {
      "text/plain": [
       "[('martes', 0.5946502089500427),\n",
       " ('sábado', 0.5402703285217285),\n",
       " ('miércoles', 0.5318350791931152),\n",
       " ('jueves', 0.5146793127059937),\n",
       " ('medianoche', 0.49314674735069275),\n",
       " ('domingo', 0.47923892736434937),\n",
       " ('viernes', 0.47197315096855164),\n",
       " ('mañana', 0.4599389433860779),\n",
       " ('octubre', 0.424324095249176),\n",
       " ('noviembre', 0.41011419892311096)]"
      ]
     },
     "execution_count": 227,
     "metadata": {},
     "output_type": "execute_result"
    }
   ],
   "source": [
    "## comparamos con la funcion most_similar\n",
    "w2v_model.wv.most_similar(positive=[\"lunes\"])"
   ]
  },
  {
   "cell_type": "markdown",
   "metadata": {},
   "source": [
    "### Principales conclusiones\n",
    "1. Observamos que los resultados son parecidos pero no iguales entre clusterizar y la función most_similar\n",
    "2. Los resultados del embeding son mucho mejores que los utilizados con el cluster sin la realización de la transformación del espacio. "
   ]
  },
  {
   "cell_type": "code",
   "execution_count": null,
   "metadata": {},
   "outputs": [],
   "source": []
  }
 ],
 "metadata": {
  "kernelspec": {
   "display_name": "NLP",
   "language": "python",
   "name": "nlp"
  },
  "language_info": {
   "codemirror_mode": {
    "name": "ipython",
    "version": 3
   },
   "file_extension": ".py",
   "mimetype": "text/x-python",
   "name": "python",
   "nbconvert_exporter": "python",
   "pygments_lexer": "ipython3",
   "version": "3.9.7"
  }
 },
 "nbformat": 4,
 "nbformat_minor": 4
}
